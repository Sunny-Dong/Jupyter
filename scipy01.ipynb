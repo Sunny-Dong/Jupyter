{
 "cells": [
  {
   "cell_type": "code",
   "execution_count": 1,
   "metadata": {
    "collapsed": true
   },
   "outputs": [],
   "source": [
    "import numpy as np\n",
    "import scipy.stats as stats\n",
    "import scipy.optimize as opt\n",
    "np.ramdom.seed(seed=2017)"
   ]
  },
  {
   "cell_type": "code",
   "execution_count": 3,
   "metadata": {
    "collapsed": false
   },
   "outputs": [
    {
     "name": "stdout",
     "output_type": "stream",
     "text": [
      "[ 0.97505304  0.68391297  0.29884353  0.50473167  0.56419976  0.1366099\n",
      "  0.76839362  0.91115332  0.41298519  0.38305512]\n",
      "[ 0.33182077  0.49899931  0.76029597  0.05071263  0.14183698  0.26103239\n",
      "  0.37533912  0.2884007   0.53887655  0.12087375]\n"
     ]
    }
   ],
   "source": [
    "rv_unif=stats.uniform.rvs(size=10)\n",
    "print(rv_unif)\n",
    "rv_beta=stats.beta.rvs(size=10,a=2,b=4)\n",
    "print(rv_beta)"
   ]
  },
  {
   "cell_type": "code",
   "execution_count": 5,
   "metadata": {
    "collapsed": false
   },
   "outputs": [
    {
     "name": "stdout",
     "output_type": "stream",
     "text": [
      "mean of data is: 0.595619497143\n",
      "median of data is: 0.532928755819\n",
      "standard deviation of data is: 0.917491266373\n"
     ]
    }
   ],
   "source": [
    "#假设检验\n",
    "norm_dist=stats.norm(loc=0.5,scale=1)\n",
    "n=100\n",
    "data=norm_dist.rvs(size=n)\n",
    "print (\"mean of data is: \" + str(np.mean(data)))\n",
    "print (\"median of data is: \" + str(np.median(data)))\n",
    "print (\"standard deviation of data is: \" + str(np.std(data)))"
   ]
  },
  {
   "cell_type": "code",
   "execution_count": 6,
   "metadata": {
    "collapsed": false
   },
   "outputs": [
    {
     "name": "stdout",
     "output_type": "stream",
     "text": [
      "KS-statistic D= 0.054 p_value=0.9332\n"
     ]
    }
   ],
   "source": [
    "# Kolmogorov-Smirnov test  kstest one sample\n",
    "#KS检验不需要知道数据的分布情况，可以算是一种非参数检验方法\n",
    "mu=np.mean(data)\n",
    "sigma=np.std(data)\n",
    "stat_val, p_val = stats.kstest(data, 'norm', (mu, sigma))\n",
    "print('KS-statistic D=%6.3f p_value=%6.4f' %(stat_val,p_val))\n",
    "#p-value "
   ]
  },
  {
   "cell_type": "code",
   "execution_count": 7,
   "metadata": {
    "collapsed": false
   },
   "outputs": [
    {
     "name": "stdout",
     "output_type": "stream",
     "text": [
      "T-test D= 6.459 p-value=0.0000\n"
     ]
    }
   ],
   "source": [
    "# t-检验  one sample ttest_1samp\n",
    "# 假设是检验的数据满足正态分布，否则对于小样本不满足正态分布的数据用t-检验就会造成较大的偏差，\n",
    "# 虽然对于大样本不满足正态分布的数据而言t-检验还是相当精确有效的手段。\n",
    "stat_val, p_val=stats.ttest_1samp(data,0) ##正态假设下，检验均值是否为0\n",
    "print('T-test D=%6.3f p-value=%6.4f' % (stat_val,p_val))  #p-value小拒绝原假设"
   ]
  },
  {
   "cell_type": "code",
   "execution_count": 13,
   "metadata": {
    "collapsed": false
   },
   "outputs": [
    {
     "name": "stdout",
     "output_type": "stream",
     "text": [
      "Two sample Ttest D= 4.413 p-value=0.0000\n"
     ]
    }
   ],
   "source": [
    "##two sample ttest_ind\n",
    "norm_dist2=stats.norm(loc=-0.2,scale=1.2)\n",
    "data2=norm_dist2.rvs(size=n)\n",
    "stat_val,p_val=stats.ttest_ind(data,data2,equal_var=False)\n",
    "print('Two sample Ttest D=%6.3f p-value=%6.4f' %(stat_val,p_val)) ##拒绝\n"
   ]
  },
  {
   "cell_type": "code",
   "execution_count": 14,
   "metadata": {
    "collapsed": true
   },
   "outputs": [],
   "source": [
    "#bartlett和levene用于检验方差是否相等\n",
    "#anderson_ksamp用于进行Anderson-Darling的K-样本检验"
   ]
  },
  {
   "cell_type": "code",
   "execution_count": 17,
   "metadata": {
    "collapsed": false
   },
   "outputs": [
    {
     "name": "stdout",
     "output_type": "stream",
     "text": [
      "quantiles of 2, 4 and 5:\n",
      "[ 0.59399415  0.90842181  0.95957232]\n",
      "Values of 25%, 50% and 90%:\n",
      "[ 0.1947002   0.30326533  0.36740397]\n"
     ]
    }
   ],
   "source": [
    "#分位数 pdf & 分为点 cdf\n",
    "g_dist = stats.gamma(a=2)\n",
    "print (\"quantiles of 2, 4 and 5:\")\n",
    "print (g_dist.cdf([2, 4, 5]))\n",
    "print (\"Values of 25%, 50% and 90%:\")\n",
    "print (g_dist.pdf([0.25, 0.5, 0.95]))"
   ]
  },
  {
   "cell_type": "code",
   "execution_count": 18,
   "metadata": {
    "collapsed": false
   },
   "outputs": [
    {
     "data": {
      "text/plain": [
       "15.00000000089533"
      ]
     },
     "execution_count": 18,
     "metadata": {},
     "output_type": "execute_result"
    }
   ],
   "source": [
    "# moment 查看分布矩信息\n",
    "stats.norm.moment(6,loc=0,scale=1) #6阶原点矩"
   ]
  },
  {
   "cell_type": "code",
   "execution_count": 20,
   "metadata": {
    "collapsed": false
   },
   "outputs": [
    {
     "name": "stdout",
     "output_type": "stream",
     "text": [
      "DescribeResult(nobs=100, minmax=(-4.2775537870325779, 5.3011096750710429), mean=0.13769731085059708, variance=3.9155537530575417, skewness=0.1341857734307419, kurtosis=-0.2517845320544412)\n",
      "Data size is: 100\n",
      "Minimum value is: -4.27755378703\n",
      "Maximum value is: 5.30110967507\n",
      "Arithmetic mean is: 0.137697310851\n",
      "Unbiased variance is: 3.91555375306\n",
      "Biased skewness is: 0.1341857734307419\n",
      "Biased kurtosis is: -0.2517845320544412\n"
     ]
    }
   ],
   "source": [
    "#describe函数提供对数据集的统计描述分析，包括数据样本大小，极值，均值，方差，偏度和峰度：\n",
    "norm_dist = stats.norm(loc=0, scale=1.8)\n",
    "dat = norm_dist.rvs(size=100)\n",
    "info = stats.describe(dat)\n",
    "print (info)\n",
    "print (\"Data size is: \" + str(info[0]))\n",
    "print (\"Minimum value is: \" + str(info[1][0]))\n",
    "print (\"Maximum value is: \" + str(info[1][1]))\n",
    "print (\"Arithmetic mean is: \" + str(info[2]))\n",
    "print (\"Unbiased variance is: \" + str(info[3]))\n",
    "print (\"Biased skewness is: \" + str(info[4])) #偏度 右偏尾部向右延伸\n",
    "print (\"Biased kurtosis is: \" + str(info[5])) #峰度 集中和离散程度 正态分布为3 超出三 为高峰度"
   ]
  },
  {
   "cell_type": "code",
   "execution_count": 25,
   "metadata": {
    "collapsed": false
   },
   "outputs": [
    {
     "name": "stdout",
     "output_type": "stream",
     "text": [
      "(1.0055110393414082, 2.2911646945916377)\n",
      "MLE of data mean:1.00551103934\n",
      "MLE of data standard deviation:2.29116469459\n"
     ]
    }
   ],
   "source": [
    "# fit 函数 MLE\n",
    "norm_dist3=stats.norm(loc=1,scale=2)\n",
    "data=norm_dist3.rvs(size=100)\n",
    "mu,sigma=stats.norm.fit(data)\n",
    "print(stats.norm.fit(data))\n",
    "print (\"MLE of data mean:\" + str(mu))\n",
    "print (\"MLE of data standard deviation:\" + str(sigma))"
   ]
  },
  {
   "cell_type": "code",
   "execution_count": null,
   "metadata": {
    "collapsed": true
   },
   "outputs": [],
   "source": [
    "# pearsonr和spearmanr可以计算Pearson和Spearman相关系数\n",
    "# 这两个相关系数度量了两组数据的相互线性关联程度：\n",
    "\n"
   ]
  }
 ],
 "metadata": {
  "kernelspec": {
   "display_name": "Python 3",
   "language": "python",
   "name": "python3"
  },
  "language_info": {
   "codemirror_mode": {
    "name": "ipython",
    "version": 3
   },
   "file_extension": ".py",
   "mimetype": "text/x-python",
   "name": "python",
   "nbconvert_exporter": "python",
   "pygments_lexer": "ipython3",
   "version": "3.5.3"
  }
 },
 "nbformat": 4,
 "nbformat_minor": 2
}
